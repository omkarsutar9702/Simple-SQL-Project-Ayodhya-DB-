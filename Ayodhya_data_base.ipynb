{
 "cells": [
  {
   "cell_type": "code",
   "execution_count": null,
   "metadata": {},
   "outputs": [],
   "source": [
    "import pandas as pd\n",
    "import sqlite3"
   ]
  },
  {
   "cell_type": "code",
   "execution_count": null,
   "metadata": {},
   "outputs": [],
   "source": [
    "Conn = sqlite3.connect(r\"E:\\Python Projects\\SQLite3\\Database file\\Ayodhya_DB.db\")\n",
    "Curr = Conn.cursor()"
   ]
  },
  {
   "cell_type": "code",
   "execution_count": null,
   "metadata": {},
   "outputs": [],
   "source": [
    "# create Deity table \n",
    "Deity_table = \"\"\"\n",
    "    CREATE TABLE IF NOT EXISTS Deity (\n",
    "    DeityID INT PRIMARY KEY,\n",
    "    Name VARCHAR(255) NOT NULL,\n",
    "    Description TEXT\n",
    ");\n",
    "\n",
    "\"\"\"\n",
    "Curr.execute(Deity_table)"
   ]
  },
  {
   "cell_type": "code",
   "execution_count": null,
   "metadata": {},
   "outputs": [],
   "source": [
    "Temple_table = \"\"\"\n",
    "\n",
    "CREATE TABLE IF NOT EXISTS Temple (\n",
    "                    TempleID INT PRIMARY KEY,\n",
    "                    Name VARCHAR(255) NOT NULL,\n",
    "                    Location VARCHAR(255),\n",
    "                    ConstructionStartDate DATE,\n",
    "                    ExpectedCompletionDate DATE\n",
    "                );\n",
    "\"\"\"\n",
    "Curr.execute(Temple_table)"
   ]
  },
  {
   "cell_type": "code",
   "execution_count": null,
   "metadata": {},
   "outputs": [],
   "source": [
    "construction_phase = \"\"\"\n",
    "    CREATE TABLE IF NOT EXISTS ConstructionPhase (\n",
    "        PhaseID INT PRIMARY KEY,\n",
    "        TempleID INT,\n",
    "        PhaseName VARCHAR(255) NOT NULL,\n",
    "        StartDate DATE,\n",
    "        CompletionDate DATE,\n",
    "        CONSTRAINT fk_temple FOREIGN KEY (TempleID) REFERENCES Temple(TempleID)\n",
    "    );\n",
    "\"\"\"\n",
    "Curr.execute(construction_phase)"
   ]
  },
  {
   "cell_type": "code",
   "execution_count": null,
   "metadata": {},
   "outputs": [],
   "source": [
    "Architecture_table = \"\"\"\n",
    "    CREATE TABLE IF NOT EXISTS Architecture (\n",
    "        ArchitectureID INT PRIMARY KEY,\n",
    "        TempleID INT,\n",
    "        ArchitectName VARCHAR(255) NOT NULL,\n",
    "        Description TEXT,\n",
    "        CONSTRAINT fk_temple_architecture FOREIGN KEY (TempleID) REFERENCES Temple(TempleID)\n",
    "    );\n",
    "\"\"\"\n",
    "\n",
    "Curr.execute(Architecture_table)"
   ]
  },
  {
   "cell_type": "code",
   "execution_count": null,
   "metadata": {},
   "outputs": [],
   "source": [
    "Donations_table = \"\"\"\n",
    "    -- Table for Donations\n",
    "    CREATE TABLE IF NOT EXISTS Donations (\n",
    "        DonationID INT PRIMARY KEY,\n",
    "        DonorName VARCHAR(255) NOT NULL,\n",
    "        Amount DECIMAL(10, 2) NOT NULL,\n",
    "        DonationDate DATE,\n",
    "        TempleID INT,\n",
    "        CONSTRAINT fk_temple_donations FOREIGN KEY (TempleID) REFERENCES Temple(TempleID)\n",
    "    );\n",
    "\"\"\"\n",
    "Curr.execute(Donations_table)"
   ]
  },
  {
   "cell_type": "code",
   "execution_count": null,
   "metadata": {},
   "outputs": [],
   "source": [
    "EVENTS_TABLE = \"\"\"\n",
    "    -- Table for Events\n",
    "    CREATE TABLE IF NOT EXISTS Events (\n",
    "        EventID INT PRIMARY KEY,\n",
    "        EventName VARCHAR(255) NOT NULL,\n",
    "        EventDate DATE,\n",
    "        Description TEXT\n",
    "    );\n",
    "\n",
    "\"\"\"\n",
    "Curr.execute(EVENTS_TABLE)"
   ]
  },
  {
   "cell_type": "code",
   "execution_count": null,
   "metadata": {},
   "outputs": [],
   "source": [
    "TEMPLE_EVENTS_TABLE = \"\"\"\n",
    "    -- Table for TempleEvents\n",
    "    CREATE TABLE IF NOT EXISTS TempleEvents (\n",
    "        TempleID INT,\n",
    "        EventID INT,\n",
    "        CONSTRAINT fk_temple_events_temple FOREIGN KEY (TempleID) REFERENCES Temple(TempleID),\n",
    "        CONSTRAINT fk_temple_events_event FOREIGN KEY (EventID) REFERENCES Events(EventID),\n",
    "        PRIMARY KEY (TempleID, EventID)\n",
    "    );\n",
    "\n",
    "\"\"\"\n",
    "Curr.execute(TEMPLE_EVENTS_TABLE)"
   ]
  },
  {
   "cell_type": "code",
   "execution_count": null,
   "metadata": {},
   "outputs": [],
   "source": [
    "# insert into database\n",
    "\n",
    "insert_deity_table = \"\"\"\n",
    "-- Inserting values into Deity table\n",
    "INSERT INTO Deity (DeityID, Name, Description)\n",
    "VALUES\n",
    "    (1, 'Rama', 'An incarnation of Vishnu, a principal deity of Hinduism born in Ayodhya.'),\n",
    "    (2, 'Ram Lalla Virajman', 'The infant form of Rama, the presiding deity of the Ram Mandir temple.');\n",
    "    \n",
    "\"\"\"\n",
    "Curr.execute(insert_deity_table)"
   ]
  },
  {
   "cell_type": "code",
   "execution_count": null,
   "metadata": {},
   "outputs": [],
   "source": [
    "insrt_temple_table = \"\"\"\n",
    "-- Inserting sample data into the Temple table\n",
    "INSERT INTO Temple (TempleID, Name, Location, ConstructionStartDate, ExpectedCompletionDate)\n",
    "VALUES\n",
    "    (1, 'Ram Mandir', 'Ayodhya, Uttar Pradesh, India', '2020-03-01', '2024-01-22');\n",
    "\"\"\"\n",
    "Curr.execute(insrt_temple_table)"
   ]
  },
  {
   "cell_type": "code",
   "execution_count": null,
   "metadata": {},
   "outputs": [],
   "source": [
    "insert_into_phase = \"\"\"\n",
    "-- Example values for ConstructionPhase table\n",
    "INSERT INTO ConstructionPhase (PhaseID, TempleID, PhaseName, StartDate, CompletionDate)\n",
    "VALUES\n",
    "    (1, 1, 'Phase 1', '2020-03-01', '2020-05-15'),\n",
    "    (2, 1, 'Phase 2', '2020-06-01', '2020-08-30'),\n",
    "    (3, 1, 'Phase 3', '2021-01-10', '2021-03-25'),\n",
    "    (4, 1, 'Phase 4', '2021-06-15', '2022-02-28');\n",
    "\n",
    "\"\"\"\n",
    "Curr.execute(insert_into_phase)"
   ]
  },
  {
   "cell_type": "code",
   "execution_count": null,
   "metadata": {},
   "outputs": [],
   "source": [
    "insert_Architecture_table=\"\"\"\n",
    "    -- Inserting values into the Architecture table\n",
    "    INSERT INTO Architecture (ArchitectureID, TempleID, ArchitectName, Description)\n",
    "    VALUES\n",
    "        (1, 1, 'Chandrakant Sompura', 'Chief architect of the temple'),\n",
    "        (2, 1, 'Nikhil Sompura', 'Assistant architect'),\n",
    "        (3, 1, 'Ashish Sompura', 'Assistant architect');\n",
    "\"\"\"\n",
    "Curr.execute(insert_Architecture_table)"
   ]
  },
  {
   "cell_type": "code",
   "execution_count": null,
   "metadata": {},
   "outputs": [],
   "source": [
    "insert_donation_table = \"\"\"\n",
    "    -- Inserting sample data for Donations\n",
    "    INSERT INTO Donations (DonationID, DonorName, Amount, DonationDate, TempleID)\n",
    "    VALUES\n",
    "    (1, 'Ram Nath Kovind', 501000.00, '2021-01-15', 1), -- Assuming TempleID 1 corresponds to the Ram Mandir\n",
    "    \n",
    "    (2, 'Anonymous Donor', 100.00, '2021-02-01', 1),\n",
    "    (3, 'Leadership Council', 1000000.00, '2021-03-10', 1),\n",
    "    \n",
    "    (4, 'H.D. Kumaraswamy', 5000.00, '2021-05-01', 1),\n",
    "    (5, 'Siddaramaiah', 20000.00, '2021-05-15', 1),\n",
    "    \n",
    "    (6, 'VHP Activist 1', 50.00, '2021-06-01', 1),\n",
    "    (7, 'VHP Activist 2', 75.00, '2021-06-15', 1),\n",
    "    \n",
    "    (8, 'Muslim Community Member', 1000.00, '2021-07-01', 1),\n",
    "    (9, 'Christian Community Member', 500.00, '2021-07-15', 1),\n",
    "    \n",
    "    (10, 'Anonymous Supporter', 200.00, '2021-08-01', 1);\n",
    "\"\"\"\n",
    "\n",
    "Curr.execute(insert_donation_table)"
   ]
  },
  {
   "cell_type": "code",
   "execution_count": null,
   "metadata": {},
   "outputs": [],
   "source": [
    "insert_event_table = \"\"\"\n",
    "    \n",
    "    -- Inserting sample values into Events table\n",
    "    INSERT INTO Events (EventID, EventName, EventDate, Description)\n",
    "    VALUES\n",
    "        (1, 'Commencement Ceremony', '2020-08-05', 'Ceremony celebrating the commencement of Ram Mandir construction by PM Narendra Modi'),\n",
    "        (2, 'Bhoomi Pujan Ceremony', '2020-08-05', 'Ground-breaking ceremony with Vedic rituals and foundation stone laying by PM Narendra Modi'),\n",
    "        (3, 'Vijay Mahamantra Jaap Anushthan', '2020-04-06', 'Chanting of Vijay Mahamantra for victory over hurdles in temple construction'),\n",
    "        (4, 'Pran Pratishtha Ceremony', '2024-01-22', 'Consecration ceremony scheduled for the installation of Lord Ram idol in the garbhagriha');\n",
    "    \n",
    "\"\"\"\n",
    "Curr.execute(insert_event_table)"
   ]
  },
  {
   "cell_type": "code",
   "execution_count": null,
   "metadata": {},
   "outputs": [],
   "source": [
    "insert_temple_events = \"\"\"\n",
    "                      -- Insert values into TempleEvents table\n",
    "\n",
    "    INSERT INTO TempleEvents (TempleID, EventID) VALUES\n",
    "    (1, 1), -- Assuming TempleID 1 and EventID 1 are associated\n",
    "    (1, 2), -- Assuming TempleID 1 and EventID 2 are associated\n",
    "    (1, 3), -- Assuming TempleID 1 and EventID 3 are associated\n",
    "    (1, 4); -- Assuming TempleID 1 and EventID 4 are associated\n",
    "\"\"\"\n",
    "Curr.execute(insert_temple_events)"
   ]
  },
  {
   "cell_type": "code",
   "execution_count": null,
   "metadata": {},
   "outputs": [],
   "source": [
    "Conn.commit()\n",
    "Conn.close()"
   ]
  },
  {
   "cell_type": "code",
   "execution_count": null,
   "metadata": {},
   "outputs": [],
   "source": []
  }
 ],
 "metadata": {
  "kernelspec": {
   "display_name": "my_venv",
   "language": "python",
   "name": "python3"
  },
  "language_info": {
   "codemirror_mode": {
    "name": "ipython",
    "version": 3
   },
   "file_extension": ".py",
   "mimetype": "text/x-python",
   "name": "python",
   "nbconvert_exporter": "python",
   "pygments_lexer": "ipython3",
   "version": "3.10.6"
  }
 },
 "nbformat": 4,
 "nbformat_minor": 2
}
